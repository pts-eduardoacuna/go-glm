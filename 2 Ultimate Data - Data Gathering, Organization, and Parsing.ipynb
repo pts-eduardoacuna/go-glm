{
 "cells": [
  {
   "cell_type": "markdown",
   "metadata": {},
   "source": [
    "# Ultimate Data\n",
    "\n",
    "## Data Gathering, Organization, and Parsing\n",
    "\n",
    "Based on Gophercon 2017 [Daniel Whitenack's Ultimate Data - Data Gathering, Organization, and Parsing](https://github.com/ardanlabs/gotraining/blob/master/topics/courses/data/data_gathering/README.md)."
   ]
  },
  {
   "cell_type": "code",
   "execution_count": null,
   "metadata": {
    "collapsed": true
   },
   "outputs": [],
   "source": []
  }
 ],
 "metadata": {
  "kernelspec": {
   "display_name": "Go",
   "language": "go",
   "name": "gophernotes"
  },
  "language_info": {
   "name": "go"
  }
 },
 "nbformat": 4,
 "nbformat_minor": 2
}
