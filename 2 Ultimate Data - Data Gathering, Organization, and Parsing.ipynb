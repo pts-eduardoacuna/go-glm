{
 "cells": [
  {
   "cell_type": "markdown",
   "metadata": {},
   "source": [
    "# Ultimate Data\n",
    "\n",
    "## Data Gathering, Organization, and Parsing\n",
    "\n",
    "Based on Gophercon 2017 [Daniel Whitenack's Ultimate Data - Data Gathering, Organization, and Parsing](https://github.com/ardanlabs/gotraining/blob/master/topics/courses/data/data_gathering/README.md)."
   ]
  },
  {
   "cell_type": "markdown",
   "metadata": {
    "collapsed": true
   },
   "source": [
    "### The MNIST Dataset\n",
    "\n",
    "The MNIST dataset can be downloaded from [http://yann.lecun.com/exdb/mnist/](http://yann.lecun.com/exdb/mnist/).\n",
    "\n",
    "Four files are provided:\n",
    "\n",
    "- `train-images-idx3-ubyte.gz`:  training set images (9912422 bytes) \n",
    "- `train-labels-idx1-ubyte.gz`:  training set labels (28881 bytes) \n",
    "- `t10k-images-idx3-ubyte.gz`:   test set images (1648877 bytes) \n",
    "- `t10k-labels-idx1-ubyte.gz`:   test set labels (4542 bytes)\n",
    "\n",
    "The images and labels files are encoded in binary with a custom format.\n",
    "\n",
    "For labels the format is:\n",
    "\n",
    "```\n",
    "[offset] [type]          [value]          [description] \n",
    "0000     32 bit integer  0x00000801(2049) magic number (MSB first) \n",
    "0004     32 bit integer  60000            number of items \n",
    "0008     unsigned byte   ??               label \n",
    "0009     unsigned byte   ??               label \n",
    "........ \n",
    "xxxx     unsigned byte   ??               label\n",
    "\n",
    "The labels values are 0 to 9.\n",
    "```\n",
    "\n",
    "For images the format is:\n",
    "\n",
    "```\n",
    "[offset] [type]          [value]          [description] \n",
    "0000     32 bit integer  0x00000803(2051) magic number \n",
    "0004     32 bit integer  60000            number of images \n",
    "0008     32 bit integer  28               number of rows \n",
    "0012     32 bit integer  28               number of columns \n",
    "0016     unsigned byte   ??               pixel \n",
    "0017     unsigned byte   ??               pixel \n",
    "........ \n",
    "xxxx     unsigned byte   ??               pixel\n",
    "\n",
    "Pixels are organized row-wise. Pixel values are 0 to 255. 0 means background (white), 255 means foreground (black).\n",
    "```"
   ]
  },
  {
   "cell_type": "markdown",
   "metadata": {},
   "source": [
    "### Data flow overview\n",
    "\n",
    "The MNIST dataset is one source of data.\n",
    "\n",
    "For our data experiment, we'll transform the original files into CSV files, which we will treat as the main format of our pipeline. Later we could define other sources of data and transform those into CSVs.\n",
    "\n",
    "![alt](images/MNIST-NN-1.png)"
   ]
  },
  {
   "cell_type": "markdown",
   "metadata": {},
   "source": [
    "### Creating a repo for the source files\n",
    "\n",
    "First we create a `mnist-sources` repo\n",
    "\n",
    "```\n",
    "pachctl create-repo mnist-sources\n",
    "```\n",
    "\n",
    "Then we store and commit the source files\n",
    "\n",
    "```\n",
    "pachctl put-file mnist-sources master training-images -c -f mnist/training-images\n",
    "pachctl put-file mnist-sources master training-labels -c -f mnist/training-labels\n",
    "pachctl put-file mnist-sources master predict-images -c -f mnist/testing-images\n",
    "pachctl put-file mnist-sources master predict-labels -c -f mnist/testing-labels\n",
    "```"
   ]
  },
  {
   "cell_type": "markdown",
   "metadata": {},
   "source": [
    "### Creating a pipeline for parsing MNIST files\n",
    "\n"
   ]
  }
 ],
 "metadata": {
  "kernelspec": {
   "display_name": "Go",
   "language": "go",
   "name": "gophernotes"
  },
  "language_info": {
   "name": "go"
  }
 },
 "nbformat": 4,
 "nbformat_minor": 2
}
